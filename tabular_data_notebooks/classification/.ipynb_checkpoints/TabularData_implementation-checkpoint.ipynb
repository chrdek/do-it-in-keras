{
 "cells": [
  {
   "cell_type": "markdown",
   "id": "50e91848-0970-422c-84e3-6f51ed426570",
   "metadata": {},
   "source": [
    "## Tabular data classification with Deep Learning\n",
    "Welcome! This notebook introduces some of the basics of data preprocessing for numerical and tabular data in order to classify it using Deep Learning. This notebook includes a custom dataset so that you can use your own data later on as long as they are the same file type (.csv).\n",
    "\n",
    "You can find more tutorials and notebooks like this [here](https://github.com/sebaspv/do-it-in-keras)."
   ]
  },
  {
   "cell_type": "markdown",
   "id": "b6366aa8-8408-4b15-b002-3c204b2d0343",
   "metadata": {},
   "source": [
    "### Libraries used\n",
    "We are going to use Pandas to read the dataset and do some basic preprocessing on it, and we are also going to use Keras with the TensorFlow backend to create and train our neural network. Scikit-Learn is used for more data preprocessing, and Matplotlib is used to graph the Neural Network's performance."
   ]
  },
  {
   "cell_type": "code",
   "execution_count": 18,
   "id": "ccbe4d31-c156-413a-94e6-b8e479fb4baf",
   "metadata": {},
   "outputs": [],
   "source": [
    "import pandas as pd\n",
    "import numpy as np\n",
    "import tensorflow as tf\n",
    "import matplotlib.pyplot as plt\n",
    "from tensorflow import keras\n",
    "from tensorflow.keras.layers import *\n",
    "from tensorflow.keras.utils import to_categorical\n",
    "from sklearn.model_selection import train_test_split\n",
    "from sklearn.preprocessing import MinMaxScaler,LabelEncoder\n",
    "from sklearn.metrics import confusion_matrix, classification_report"
   ]
  },
  {
   "cell_type": "markdown",
   "id": "c886d723-894b-42fe-8025-5af37e1745e0",
   "metadata": {},
   "source": [
    "### Data preprocessing\n",
    "We are going to be applying some changes to our data in order to train our model succesfully. Specifically, we are going to encode its classification labels so that they are compatible with Neural Networks."
   ]
  },
  {
   "cell_type": "code",
   "execution_count": 19,
   "id": "db63d8dd-8767-44b2-864a-22cbe536700b",
   "metadata": {},
   "outputs": [],
   "source": [
    "# read the data with Pandas\n",
    "dataset = pd.read_csv('./wheat-seeds.csv')\n",
    "# add column names\n",
    "dataset.columns = ['t1','t2','t3','t4','t5','t6','t7','class']\n",
    "# separate the features and the labels from the dataset\n",
    "X = dataset.drop('class', axis = 1) # features\n",
    "y = dataset['class'] # labels"
   ]
  },
  {
   "cell_type": "markdown",
   "id": "52cbfbed-eb3e-4c26-be1c-a54da4be0c3a",
   "metadata": {},
   "source": [
    "### Label encoding and splitting\n",
    "You might wonder why we split the dataset before transforming it. We do this because this prevents a data leakage from the encoder by making the target labels based on both the training and testing data, which makes our model \"cheat\" based on these labels."
   ]
  },
  {
   "cell_type": "code",
   "execution_count": 20,
   "id": "155b9822-aeb5-45c7-88a9-90cd6932e022",
   "metadata": {},
   "outputs": [],
   "source": [
    "# split the dataset\n",
    "X_train, X_test, y_train, y_test = train_test_split(X, y, test_size=0.2, random_state=10)\n",
    "# encode y_train and y_test separately to avoid data leakage\n",
    "encoder = LabelEncoder()\n",
    "encoder.fit(y_train)\n",
    "encoded_train = encoder.transform(y_train)\n",
    "encoded_test = encoder.transform(y_test)\n",
    "# transform the encoded labels to categorical so that the model can undersand them\n",
    "cat_train = to_categorical(encoded_train, dtype='float64')\n",
    "cat_test = to_categorical(encoded_test, dtype='float64')"
   ]
  },
  {
   "cell_type": "markdown",
   "id": "112f6660-25db-41bb-a0ee-c3a43f7b2f3a",
   "metadata": {},
   "source": [
    "### Neural network\n",
    "It's time to implement the neural network! You can use any quantity of neurons per layer or layers, you only need to care about the output layer: It needs to be the same as the quantity of labels that are available in your dataset. In this example we have 3 labels, so our last layer must have 3 neurons."
   ]
  },
  {
   "cell_type": "code",
   "execution_count": 24,
   "id": "d1122a89-ff30-412b-8168-6b5fd7492220",
   "metadata": {},
   "outputs": [],
   "source": [
    "model = keras.models.Sequential()\n",
    "model.add(Dense(12,activation='relu'))\n",
    "model.add(Dense(6,activation='relu'))\n",
    "model.add(Dense(3,activation='softmax'))\n",
    "model.compile(loss='categorical_crossentropy',optimizer='adam',metrics=['accuracy']) # categorical_crossentropy is used with multi-label classification problems, like this one."
   ]
  },
  {
   "cell_type": "code",
   "execution_count": 25,
   "id": "e1279562-d8e1-45f4-8c50-1887736d2232",
   "metadata": {},
   "outputs": [],
   "source": [
    "# create an early stop call to prevent overfitting\n",
    "early_stop = keras.callbacks.EarlyStopping(monitor='val_acc',mode='max',patience=20) # we want to maximize the validation accuracy"
   ]
  },
  {
   "cell_type": "code",
   "execution_count": 28,
   "id": "ae6c9eb0-507a-4ff7-816c-9e7185479774",
   "metadata": {},
   "outputs": [
    {
     "name": "stdout",
     "output_type": "stream",
     "text": [
      "Train on 167 samples, validate on 42 samples\n",
      "Epoch 1/500\n",
      "167/167 [==============================] - 0s 731us/sample - loss: 0.5550 - acc: 0.7545 - val_loss: 0.6512 - val_acc: 0.6667\n",
      "Epoch 2/500\n",
      "167/167 [==============================] - 0s 635us/sample - loss: 0.5576 - acc: 0.7605 - val_loss: 0.6452 - val_acc: 0.6190\n",
      "Epoch 3/500\n",
      "167/167 [==============================] - 0s 634us/sample - loss: 0.5449 - acc: 0.7605 - val_loss: 0.6463 - val_acc: 0.6905\n",
      "Epoch 4/500\n",
      "167/167 [==============================] - 0s 634us/sample - loss: 0.5466 - acc: 0.7485 - val_loss: 0.6339 - val_acc: 0.6429\n",
      "Epoch 5/500\n",
      "167/167 [==============================] - 0s 641us/sample - loss: 0.5387 - acc: 0.7784 - val_loss: 0.6306 - val_acc: 0.6429\n",
      "Epoch 6/500\n",
      "167/167 [==============================] - 0s 620us/sample - loss: 0.5365 - acc: 0.7665 - val_loss: 0.6337 - val_acc: 0.6429\n",
      "Epoch 7/500\n",
      "167/167 [==============================] - 0s 637us/sample - loss: 0.5318 - acc: 0.7665 - val_loss: 0.6336 - val_acc: 0.6905\n",
      "Epoch 8/500\n",
      "167/167 [==============================] - 0s 623us/sample - loss: 0.5315 - acc: 0.7725 - val_loss: 0.6246 - val_acc: 0.6667\n",
      "Epoch 9/500\n",
      "167/167 [==============================] - 0s 644us/sample - loss: 0.5242 - acc: 0.7665 - val_loss: 0.6253 - val_acc: 0.6667\n",
      "Epoch 10/500\n",
      "167/167 [==============================] - 0s 637us/sample - loss: 0.5219 - acc: 0.7665 - val_loss: 0.6216 - val_acc: 0.7143\n",
      "Epoch 11/500\n",
      "167/167 [==============================] - 0s 627us/sample - loss: 0.5184 - acc: 0.7725 - val_loss: 0.6213 - val_acc: 0.6905\n",
      "Epoch 12/500\n",
      "167/167 [==============================] - 0s 630us/sample - loss: 0.5130 - acc: 0.7725 - val_loss: 0.6163 - val_acc: 0.6429\n",
      "Epoch 13/500\n",
      "167/167 [==============================] - 0s 612us/sample - loss: 0.5108 - acc: 0.7725 - val_loss: 0.6138 - val_acc: 0.6905\n",
      "Epoch 14/500\n",
      "167/167 [==============================] - 0s 627us/sample - loss: 0.5080 - acc: 0.7784 - val_loss: 0.6158 - val_acc: 0.7143\n",
      "Epoch 15/500\n",
      "167/167 [==============================] - 0s 627us/sample - loss: 0.5030 - acc: 0.7844 - val_loss: 0.6079 - val_acc: 0.6667\n",
      "Epoch 16/500\n",
      "167/167 [==============================] - 0s 637us/sample - loss: 0.4996 - acc: 0.7844 - val_loss: 0.6036 - val_acc: 0.7381\n",
      "Epoch 17/500\n",
      "167/167 [==============================] - 0s 641us/sample - loss: 0.4944 - acc: 0.7904 - val_loss: 0.6003 - val_acc: 0.7143\n",
      "Epoch 18/500\n",
      "167/167 [==============================] - 0s 623us/sample - loss: 0.4904 - acc: 0.7725 - val_loss: 0.5980 - val_acc: 0.7381\n",
      "Epoch 19/500\n",
      "167/167 [==============================] - 0s 628us/sample - loss: 0.4833 - acc: 0.7904 - val_loss: 0.5971 - val_acc: 0.7381\n",
      "Epoch 20/500\n",
      "167/167 [==============================] - 0s 626us/sample - loss: 0.4796 - acc: 0.7725 - val_loss: 0.5948 - val_acc: 0.7381\n",
      "Epoch 21/500\n",
      "167/167 [==============================] - 0s 631us/sample - loss: 0.4751 - acc: 0.7784 - val_loss: 0.5780 - val_acc: 0.7381\n",
      "Epoch 22/500\n",
      "167/167 [==============================] - 0s 648us/sample - loss: 0.4751 - acc: 0.7904 - val_loss: 0.5840 - val_acc: 0.7381\n",
      "Epoch 23/500\n",
      "167/167 [==============================] - 0s 629us/sample - loss: 0.4678 - acc: 0.8084 - val_loss: 0.5694 - val_acc: 0.7381\n",
      "Epoch 24/500\n",
      "167/167 [==============================] - 0s 647us/sample - loss: 0.4625 - acc: 0.7964 - val_loss: 0.5760 - val_acc: 0.7381\n",
      "Epoch 25/500\n",
      "167/167 [==============================] - 0s 661us/sample - loss: 0.4555 - acc: 0.7964 - val_loss: 0.5738 - val_acc: 0.7381\n",
      "Epoch 26/500\n",
      "167/167 [==============================] - 0s 640us/sample - loss: 0.4603 - acc: 0.7964 - val_loss: 0.5691 - val_acc: 0.7857\n",
      "Epoch 27/500\n",
      "167/167 [==============================] - 0s 627us/sample - loss: 0.4502 - acc: 0.7964 - val_loss: 0.5675 - val_acc: 0.7381\n",
      "Epoch 28/500\n",
      "167/167 [==============================] - 0s 629us/sample - loss: 0.4460 - acc: 0.8144 - val_loss: 0.5679 - val_acc: 0.7381\n",
      "Epoch 29/500\n",
      "167/167 [==============================] - 0s 629us/sample - loss: 0.4468 - acc: 0.7904 - val_loss: 0.5629 - val_acc: 0.7381\n",
      "Epoch 30/500\n",
      "167/167 [==============================] - 0s 616us/sample - loss: 0.4430 - acc: 0.8144 - val_loss: 0.5477 - val_acc: 0.7381\n",
      "Epoch 31/500\n",
      "167/167 [==============================] - 0s 641us/sample - loss: 0.4331 - acc: 0.8144 - val_loss: 0.5695 - val_acc: 0.7857\n",
      "Epoch 32/500\n",
      "167/167 [==============================] - 0s 630us/sample - loss: 0.4323 - acc: 0.7964 - val_loss: 0.5485 - val_acc: 0.7381\n",
      "Epoch 33/500\n",
      "167/167 [==============================] - 0s 634us/sample - loss: 0.4337 - acc: 0.8144 - val_loss: 0.5412 - val_acc: 0.8095\n",
      "Epoch 34/500\n",
      "167/167 [==============================] - 0s 628us/sample - loss: 0.4249 - acc: 0.8024 - val_loss: 0.5547 - val_acc: 0.7857\n",
      "Epoch 35/500\n",
      "167/167 [==============================] - 0s 632us/sample - loss: 0.4225 - acc: 0.8204 - val_loss: 0.5385 - val_acc: 0.8095\n",
      "Epoch 36/500\n",
      "167/167 [==============================] - 0s 625us/sample - loss: 0.4192 - acc: 0.8263 - val_loss: 0.5450 - val_acc: 0.8095\n",
      "Epoch 37/500\n",
      "167/167 [==============================] - 0s 624us/sample - loss: 0.4150 - acc: 0.8204 - val_loss: 0.5413 - val_acc: 0.8095\n",
      "Epoch 38/500\n",
      "167/167 [==============================] - 0s 629us/sample - loss: 0.4132 - acc: 0.7964 - val_loss: 0.5416 - val_acc: 0.8095\n",
      "Epoch 39/500\n",
      "167/167 [==============================] - 0s 634us/sample - loss: 0.4190 - acc: 0.8383 - val_loss: 0.5352 - val_acc: 0.8095\n",
      "Epoch 40/500\n",
      "167/167 [==============================] - 0s 695us/sample - loss: 0.4167 - acc: 0.8024 - val_loss: 0.5423 - val_acc: 0.8095\n",
      "Epoch 41/500\n",
      "167/167 [==============================] - 0s 626us/sample - loss: 0.4080 - acc: 0.8263 - val_loss: 0.5308 - val_acc: 0.8095\n",
      "Epoch 42/500\n",
      "167/167 [==============================] - 0s 631us/sample - loss: 0.4034 - acc: 0.8323 - val_loss: 0.5417 - val_acc: 0.8095\n",
      "Epoch 43/500\n",
      "167/167 [==============================] - 0s 630us/sample - loss: 0.4005 - acc: 0.8144 - val_loss: 0.5243 - val_acc: 0.7857\n",
      "Epoch 44/500\n",
      "167/167 [==============================] - 0s 634us/sample - loss: 0.3963 - acc: 0.8204 - val_loss: 0.5209 - val_acc: 0.8095\n",
      "Epoch 45/500\n",
      "167/167 [==============================] - 0s 632us/sample - loss: 0.3935 - acc: 0.8263 - val_loss: 0.5234 - val_acc: 0.8095\n",
      "Epoch 46/500\n",
      "167/167 [==============================] - 0s 638us/sample - loss: 0.3905 - acc: 0.8443 - val_loss: 0.5212 - val_acc: 0.8095\n",
      "Epoch 47/500\n",
      "167/167 [==============================] - 0s 626us/sample - loss: 0.3890 - acc: 0.8144 - val_loss: 0.5238 - val_acc: 0.7857\n",
      "Epoch 48/500\n",
      "167/167 [==============================] - 0s 630us/sample - loss: 0.3883 - acc: 0.8204 - val_loss: 0.5080 - val_acc: 0.8095\n",
      "Epoch 49/500\n",
      "167/167 [==============================] - 0s 629us/sample - loss: 0.3842 - acc: 0.8383 - val_loss: 0.5193 - val_acc: 0.7857\n",
      "Epoch 50/500\n",
      "167/167 [==============================] - 0s 629us/sample - loss: 0.3804 - acc: 0.8323 - val_loss: 0.5067 - val_acc: 0.8095\n",
      "Epoch 51/500\n",
      "167/167 [==============================] - 0s 623us/sample - loss: 0.3839 - acc: 0.7964 - val_loss: 0.5081 - val_acc: 0.8095\n",
      "Epoch 52/500\n",
      "167/167 [==============================] - 0s 672us/sample - loss: 0.3750 - acc: 0.8503 - val_loss: 0.5096 - val_acc: 0.8095\n",
      "Epoch 53/500\n",
      "167/167 [==============================] - 0s 662us/sample - loss: 0.3723 - acc: 0.8323 - val_loss: 0.5179 - val_acc: 0.8095\n"
     ]
    },
    {
     "data": {
      "text/plain": [
       "<tensorflow.python.keras.callbacks.History at 0x1619bf64828>"
      ]
     },
     "execution_count": 28,
     "metadata": {},
     "output_type": "execute_result"
    }
   ],
   "source": [
    "# train the model\n",
    "model.fit(X_train.values,cat_train,epochs=500,batch_size=16,callbacks=[early_stop],validation_data=(X_test.values,cat_test))"
   ]
  },
  {
   "cell_type": "markdown",
   "id": "dcf58d02-6be4-4bde-92b6-0a610606aba6",
   "metadata": {},
   "source": [
    "### After training\n",
    "Our model is pretty good! We achieved a final validation accuracy of 81%. Try to modify the layers or neurons in each of them to see if you get a better accuracy! If you do, feel free to create a pull request [here!](https://github.com/sebaspv/do-it-in-keras/tree/main).\n",
    "Now, we need to monitor our model's accuracy to see how it progressed with each epoch. By doing this, we can see where the peak accuracy was to train it again only in that quantity of epochs."
   ]
  },
  {
   "cell_type": "code",
   "execution_count": 29,
   "id": "ee2cdb71-38db-4051-97aa-89d8167680a5",
   "metadata": {},
   "outputs": [
    {
     "data": {
      "text/plain": [
       "[<matplotlib.lines.Line2D at 0x1619cfda438>]"
      ]
     },
     "execution_count": 29,
     "metadata": {},
     "output_type": "execute_result"
    },
    {
     "data": {
      "image/png": "[encoded data removed]",
      "text/plain": [
       "<Figure size 432x288 with 1 Axes>"
      ]
     },
     "metadata": {
      "needs_background": "light"
     },
     "output_type": "display_data"
    }
   ],
   "source": [
    "# plot our model validation accuracy\n",
    "training_history = model.history.history['val_acc']\n",
    "plt.plot(training_history)"
   ]
  },
  {
   "cell_type": "markdown",
   "id": "c2adac5f-f266-44b3-a264-e54d84008ab1",
   "metadata": {},
   "source": [
    "### Conclusion\n",
    "Our model did pretty good. The top validation accuracy was also the last epoch, so there's no need to train the model again. As you can see, tabular data is easier to train models with since they're pure numerical data.\n",
    "### Task\n",
    "Try implementing your own multi-label classification neural network on tabular data!"
   ]
  }
 ],
 "metadata": {
  "kernelspec": {
   "display_name": "Python 3",
   "language": "python",
   "name": "python3"
  },
  "language_info": {
   "codemirror_mode": {
    "name": "ipython",
    "version": 3
   },
   "file_extension": ".py",
   "mimetype": "text/x-python",
   "name": "python",
   "nbconvert_exporter": "python",
   "pygments_lexer": "ipython3",
   "version": "3.6.8"
  }
 },
 "nbformat": 4,
 "nbformat_minor": 5
}
